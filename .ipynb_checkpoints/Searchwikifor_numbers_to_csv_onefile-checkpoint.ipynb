{
 "cells": [
  {
   "cell_type": "code",
   "execution_count": 1,
   "metadata": {},
   "outputs": [
    {
     "name": "stdout",
     "output_type": "stream",
     "text": [
      "the search object Jose Rodriguez is not recognized by wikipedia as a true            title for this language in its search engine, thus, it was skipped ,             try changing to a language that might recognize it or finding the real title to capture its data\n",
      "the search object José Luis Rodríguez is not recognized by wikipedia as a true            title for this language in its search engine, thus, it was skipped ,             try changing to a language that might recognize it or finding the real title to capture its data\n"
     ]
    }
   ],
   "source": [
    "# https://wikipedia.readthedocs.io/en/latest/code.html#api\n",
    "#https://wikipedia.readthedocs.io/en/latest/quickstart.html\n",
    "\n",
    "# This function works just as searchwiki_to_csv_onefile, but with one radical change. Instead of returning\n",
    "# all the sentences of the resulting pages of the wikipedia search engine , it only gives back those that \n",
    "# include a number . Filtering all other sentences that don't. \n",
    "\n",
    "\n",
    "\n",
    "import wikipedia\n",
    "import re\n",
    "import numpy as np\n",
    "import pandas as pd\n",
    "\n",
    "# if its your first time using this function, its very important to change the 'path' variable inside this\n",
    "# code, to adjust to your path, specifically the parts before /wikiapp1/ because in your case, you might be working\n",
    "# from a directory different from home, and with a different user name. \n",
    "\n",
    "\n",
    "def searchwikifn_to_csv_onefile(stringtosearch,number_of_results = 10,slanguage = 'en'):\n",
    "  \n",
    "\n",
    "\n",
    "    wikipedia.set_lang(slanguage)\n",
    "    \n",
    "    #IMPORTANT: make sure to adapt this path to your path\n",
    "    path = '/home/dataguy/wikiapp1/searchwiki_to_csv_storage_folder/'\n",
    "    \n",
    "    \n",
    "    completename = path + stringtosearch + \".csv\"\n",
    "    file_object = open(completename, 'a')\n",
    "    \n",
    "    searchobject = wikipedia.search(stringtosearch, results=number_of_results, suggestion=False)\n",
    "      \n",
    "        \n",
    "        \n",
    "    for i in searchobject :\n",
    "        try :\n",
    "            objectpage = wikipedia.page(title=i, pageid=None, auto_suggest=False, redirect=False, preload=False)\n",
    "            \n",
    "        except wikipedia.exceptions.DisambiguationError as e :\n",
    "            print(\"the search object \" + i + \" is not recognized by wikipedia as a true\\\n",
    "            title for this language in its search engine, thus, it was skipped , \\\n",
    "            try changing to a language that might recognize it or finding the real title to capture its data\")\n",
    "            \n",
    "            continue \n",
    "        \n",
    "        \n",
    "        contentobjectpage = objectpage.content\n",
    "        contentobjectpageasstring = str(contentobjectpage)\n",
    "        objectsentenceslist= re.split('[.!?]',contentobjectpageasstring)\n",
    "        \n",
    "        # here, we create a new list formed with only those senteces in the objectesentenceslist that have\n",
    "        # numbers in them \n",
    "        objectlistonlywithnum = [k for k in objectsentenceslist if \"1\" in k or \"2\" in k or \"3\" in k \n",
    "                                 or \"4\" in k or \"5\" in k or \"6\" in k or \"7\" in k or \"8\" in k or \"9\" in k ]\n",
    "\n",
    "        \n",
    "        objectdf = pd.DataFrame({str(i) : np.array(objectlistonlywithnum)})\n",
    "        \n",
    "\n",
    "        \n",
    "        objectdf.to_csv(file_object)\n",
    "    file_object.close()\n",
    "             \n"
   ]
  },
  {
   "cell_type": "code",
   "execution_count": 3,
   "metadata": {},
   "outputs": [
    {
     "name": "stdout",
     "output_type": "stream",
     "text": [
      "the search object Jose Rodriguez is not recognized by wikipedia as a true            title for this language in its search engine, thus, it was skipped ,             try changing to a language that might recognize it or finding the real title to capture its data\n",
      "the search object José Luis Rodríguez is not recognized by wikipedia as a true            title for this language in its search engine, thus, it was skipped ,             try changing to a language that might recognize it or finding the real title to capture its data\n"
     ]
    }
   ],
   "source": [
    "# call example\n",
    "searchwikifn_to_csv_onefile(\"jose rodriguez\")"
   ]
  },
  {
   "cell_type": "code",
   "execution_count": null,
   "metadata": {},
   "outputs": [],
   "source": []
  }
 ],
 "metadata": {
  "kernelspec": {
   "display_name": "Python 3",
   "language": "python",
   "name": "python3"
  },
  "language_info": {
   "codemirror_mode": {
    "name": "ipython",
    "version": 3
   },
   "file_extension": ".py",
   "mimetype": "text/x-python",
   "name": "python",
   "nbconvert_exporter": "python",
   "pygments_lexer": "ipython3",
   "version": "3.6.6"
  }
 },
 "nbformat": 4,
 "nbformat_minor": 2
}
