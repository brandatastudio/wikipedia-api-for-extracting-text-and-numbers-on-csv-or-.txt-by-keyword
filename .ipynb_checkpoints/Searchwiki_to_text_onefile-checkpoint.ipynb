{
 "cells": [
  {
   "cell_type": "code",
   "execution_count": 3,
   "metadata": {},
   "outputs": [
    {
     "name": "stdout",
     "output_type": "stream",
     "text": [
      "the search object Rosa is not recognized by wikipedia as a true            title for this language in its search engine, thus, it was skipped ,             try changing to a language that might recognize it or finding the real title to capture its data\n"
     ]
    }
   ],
   "source": [
    "# https://wikipedia.readthedocs.io/en/latest/code.html#api\n",
    "#https://wikipedia.readthedocs.io/en/latest/quickstart.html\n",
    "\n",
    "# this function, works as a counter part of searchwiki_to_csv_onefile , for the searchwiki_to_text function.\n",
    "# Instead of uploading the data into one txt file for each result page obtained in the wikipedia search engine\n",
    "# this one puts all the data inside an unique txt file.\n",
    "\n",
    "\n",
    "\n",
    "\n",
    "# We recommend refering to 'Searchwiki_to_csv function' file ,' Searchwiki_to_text function' and ' Searchwiki_to_csv_onefile ' if you\n",
    "# want deeper understanding of the code used. \n",
    "\n",
    "# if its your first time using this function, its very important to change the 'path' variable inside this\n",
    "# code, to adjust to your path, specifically the parts before /wikiapp1/ because in your case, you might be working\n",
    "# from a directory different from home, and with a different user name. \n",
    "\n",
    "\n",
    "\n",
    "import wikipedia\n",
    "import re\n",
    "import numpy as np\n",
    "import pandas as pd\n",
    "import os\n",
    "\n",
    "\n",
    "\n",
    "import wikipedia\n",
    "def searchwiki_to_text_one_file(stringtosearch,number_of_results = 10,slanguage = 'en'):\n",
    "  \n",
    "    \n",
    "    wikipedia.set_lang(slanguage)\n",
    "    \n",
    "    name_of_file = str(stringtosearch)\n",
    "    \n",
    "    #IMPORTANT: make sure to adapt this path to your desired path\n",
    "    \n",
    "    path = '/home/dataguy/wikiapp1/searchwiki_to_text_storage_folder/'\n",
    "    completename = path + name_of_file + \".txt\"\n",
    "    File_object = open(file =completename,mode = 'a')\n",
    "        \n",
    "    \n",
    "    searchobject = wikipedia.search(stringtosearch, results=number_of_results, suggestion=False)\n",
    "       \n",
    "    for i in searchobject :\n",
    "        try : \n",
    "            objectpage = wikipedia.page(title=i, pageid=None, auto_suggest=False, redirect=False, preload=False)\n",
    "            \n",
    "        except wikipedia.exceptions.DisambiguationError as e :\n",
    "            print(\"the search object \" + i + \" is not recognized by wikipedia as a true\\\n",
    "            title for this language in its search engine, thus, it was skipped , \\\n",
    "            try changing to a language that might recognize it or finding the real title to capture its data\")\n",
    "            \n",
    "            continue\n",
    "            \n",
    "        contentobjectpage = objectpage.content\n",
    "        contentobjectpageasstring = str(contentobjectpage)\n",
    "        \n",
    "        \n",
    "       \n",
    "        File_object.write(contentobjectpageasstring)\n",
    "    File_object.close()\n",
    "    \n",
    "\n",
    "searchwiki_to_text_one_file(\"rosa\")\n",
    "        \n"
   ]
  },
  {
   "cell_type": "code",
   "execution_count": null,
   "metadata": {},
   "outputs": [],
   "source": []
  }
 ],
 "metadata": {
  "kernelspec": {
   "display_name": "Python 3",
   "language": "python",
   "name": "python3"
  },
  "language_info": {
   "codemirror_mode": {
    "name": "ipython",
    "version": 3
   },
   "file_extension": ".py",
   "mimetype": "text/x-python",
   "name": "python",
   "nbconvert_exporter": "python",
   "pygments_lexer": "ipython3",
   "version": "3.6.6"
  }
 },
 "nbformat": 4,
 "nbformat_minor": 2
}
